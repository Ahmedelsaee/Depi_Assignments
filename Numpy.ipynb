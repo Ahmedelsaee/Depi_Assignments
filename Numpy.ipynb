{
  "cells": [
    {
      "cell_type": "markdown",
      "metadata": {
        "id": "DIl4swbP_Iux"
      },
      "source": [
        "# NumPy Practice Notebook\n",
        "\n",
        "This notebook contains a series of practice problems to help you understand and apply core concepts in NumPy.\n",
        "\n",
        "---\n",
        "\n",
        "## 🧩 1. Array Creation\n",
        "**Question:** Create the following arrays using NumPy:\n",
        "1. A 1D array with numbers from 0 to 9\n",
        "2. A 2D array of shape (3, 3) filled with zeros\n",
        "3. A 2D array of shape (2, 4) filled with ones\n",
        "4. A 3x3 identity matrix\n",
        "\n",
        "\n",
        "---\n"
      ]
    },
    {
      "cell_type": "code",
      "execution_count": 6,
      "metadata": {
        "id": "Z2WD9-cU_6y8"
      },
      "outputs": [
        {
          "name": "stdout",
          "output_type": "stream",
          "text": [
            "[0 1 2 3 4 5 6 7 8 9]\n",
            "[[0. 0. 0.]\n",
            " [0. 0. 0.]\n",
            " [0. 0. 0.]]\n",
            "[[1. 1. 1. 1.]\n",
            " [1. 1. 1. 1.]]\n",
            "[[1. 0. 0.]\n",
            " [0. 1. 0.]\n",
            " [0. 0. 1.]]\n"
          ]
        }
      ],
      "source": [
        "import numpy as np\n",
        "# 1D Array\n",
        "arr_1d=np.arange(10)\n",
        "print(arr_1d)\n",
        "# 2D Array\n",
        "arr_2d=np.zeros((3,3))\n",
        "print(arr_2d)\n",
        "# 3D Array\n",
        "arr_3d=np.ones((2,4))\n",
        "print(arr_3d)\n",
        "# 3x3 Identity Matrix\n",
        "arr_identity=np.eye(3)\n",
        "print(arr_identity)\n"
      ]
    },
    {
      "cell_type": "markdown",
      "metadata": {
        "id": "UAFotM1N_h8t"
      },
      "source": [
        "\n",
        "## 🧪 2. Array Inspection\n",
        "**Question:** Given a NumPy array `arr`, print:\n",
        "1. Its shape\n",
        "2. Its data type\n",
        "3. The number of dimensions\n",
        "4. The total number of elements\n",
        "\n",
        "```python\n",
        "arr = np.array([[1, 2, 3], [4, 5, 6]])\n",
        "\n",
        "```\n",
        "\n",
        "---\n"
      ]
    },
    {
      "cell_type": "code",
      "execution_count": 15,
      "metadata": {},
      "outputs": [
        {
          "name": "stdout",
          "output_type": "stream",
          "text": [
            "(2, 3)\n",
            "int64\n",
            "2\n",
            "6\n"
          ]
        }
      ],
      "source": [
        "arr = np.array([[1, 2, 3], [4, 5, 6]])\n",
        "# The shape of the array\n",
        "print(arr.shape)\n",
        "# The data type of array elements\n",
        "print(arr.dtype) \n",
        "# The number of dimensions of the array\n",
        "print(arr.ndim)\n",
        "# the total number of elements in the array\n",
        "print(arr.size)"
      ]
    },
    {
      "cell_type": "markdown",
      "metadata": {
        "id": "ssUHqVJR_lyu"
      },
      "source": [
        "\n",
        "## 🔍 3. Indexing and Slicing\n",
        "**Question:** Using the array below, do the following:\n",
        "1. Slice the first two rows\n",
        "2. Get the last column\n",
        "3. Extract the element in the second row and third column\n",
        "4. Reverse the rows\n",
        "\n",
        "```python\n",
        "arr = np.array([[10, 20, 30], [40, 50, 60], [70, 80, 90]])\n",
        "\n",
        "```\n"
      ]
    },
    {
      "cell_type": "code",
      "execution_count": 26,
      "metadata": {
        "id": "EHK3lYVn_8vR"
      },
      "outputs": [
        {
          "name": "stdout",
          "output_type": "stream",
          "text": [
            "The first two rows:\n",
            " [[10 20 30]\n",
            " [40 50 60]]\n",
            "The last column:\n",
            " [30 60 90]\n",
            "The element in the second row and third column: 60\n",
            "The reverse of rows:\n",
            " [[70 80 90]\n",
            " [40 50 60]\n",
            " [10 20 30]]\n"
          ]
        }
      ],
      "source": [
        "arr = np.array([[10, 20, 30],\n",
        "                [40, 50, 60],\n",
        "                [70, 80, 90]])\n",
        "# Slicing the first two rows\n",
        "print('The first two rows:\\n',arr[0:2,0:])\n",
        "# The last column\n",
        "print('The last column:\\n',arr[:,-1])\n",
        "# The element in the second row and third column\n",
        "print('The element in the second row and third column:',arr[1,2])\n",
        "# The reverse of rows\n",
        "print('The reverse of rows:\\n',arr[::-1,:])"
      ]
    },
    {
      "cell_type": "markdown",
      "metadata": {
        "id": "DwYyM0b1_nA5"
      },
      "source": [
        "\n",
        "---\n",
        "\n",
        "## 🔁 4. More Slicing Practice\n",
        "**Question:**\n",
        "Given the array below, extract:\n",
        "1. All even numbers\n",
        "2. The second and third rows\n",
        "3. The last two columns\n",
        "4. A subarray containing the middle 2x2 block\n",
        "\n",
        "```python\n",
        "arr = np.array([[1, 2, 3, 4],\n",
        "                [5, 6, 7, 8],\n",
        "                [9, 10, 11, 12],\n",
        "                [13, 14, 15, 16]])\n",
        "\n",
        "```\n"
      ]
    },
    {
      "cell_type": "code",
      "execution_count": 36,
      "metadata": {
        "id": "Z9dvnQF2_9xI"
      },
      "outputs": [
        {
          "name": "stdout",
          "output_type": "stream",
          "text": [
            "All even numbers: [ 2  4  6  8 10 12 14 16]\n",
            "The second and third rows:\n",
            " [[ 5  6  7  8]\n",
            " [ 9 10 11 12]]\n",
            "The last two columns:\n",
            " [[ 3  4]\n",
            " [ 7  8]\n",
            " [11 12]\n",
            " [15 16]]\n",
            "The middle 2x2 block:\n",
            " [[ 6  7]\n",
            " [10 11]]\n"
          ]
        }
      ],
      "source": [
        "arr = np.array([[1, 2, 3, 4],\n",
        "                [5, 6, 7, 8],\n",
        "                [9, 10, 11, 12],\n",
        "                [13, 14, 15, 16]])\n",
        "# All even numbers\n",
        "evens=arr[arr%2==0]\n",
        "print('All even numbers:', evens)\n",
        "# The second and third rows\n",
        "print('The second and third rows:\\n',arr[1:3,:])\n",
        "# The last two columns\n",
        "print('The last two columns:\\n',arr[:,2:4])\n",
        "# The middle 2x2 block\n",
        "print('The middle 2x2 block:\\n',arr[1:3,1:3])"
      ]
    },
    {
      "cell_type": "markdown",
      "metadata": {
        "id": "TYIR2o4w_qHm"
      },
      "source": [
        "\n",
        "---\n",
        "\n",
        "## ➕ 5. Arithmetic Operations\n",
        "**Question:** Perform the following using NumPy arrays:\n",
        "1. Add two arrays element-wise\n",
        "2. Multiply two arrays element-wise\n",
        "3. Raise all elements of an array to the power of 2\n",
        "\n",
        "```python\n",
        "arr1 = np.array([1, 2, 3])\n",
        "arr2 = np.array([4, 5, 6])\n",
        "\n",
        "```\n",
        "\n",
        "---\n"
      ]
    },
    {
      "cell_type": "code",
      "execution_count": 40,
      "metadata": {
        "id": "3pOaUm-y_--J"
      },
      "outputs": [
        {
          "name": "stdout",
          "output_type": "stream",
          "text": [
            "Element-wise addition: [5 7 9]\n",
            "Element-wise multiplication: [ 4 10 18]\n",
            "Elements of arr1 raised to power 2: [1 4 9]\n"
          ]
        }
      ],
      "source": [
        "arr1 = np.array([1, 2, 3])\n",
        "arr2 = np.array([4, 5, 6])\n",
        "# Element-wise addition\n",
        "arr_sum=arr1+arr2\n",
        "print('Element-wise addition:', arr_sum)\n",
        "# Element-wise multiplication\n",
        "arr_multiply=arr1*arr2\n",
        "print('Element-wise multiplication:', arr_multiply)\n",
        "# elements of arr1 raised to power 2\n",
        "arr_power=arr1**2\n",
        "print('Elements of arr1 raised to power 2:', arr_power)"
      ]
    },
    {
      "cell_type": "markdown",
      "metadata": {
        "id": "mfYIu2L9_rl6"
      },
      "source": [
        "\n",
        "## 📏 6. Broadcasting\n",
        "**Question:** Use broadcasting to:\n",
        "1. Add a 1D array to each row of a 2D array\n",
        "2. Multiply each row of a 2D array by a 1D array\n",
        "3. Subtract a scalar from each element in an array\n",
        "4. Add a column vector to each column of a matrix\n",
        "\n",
        "```python\n",
        "A = np.array([[1, 2, 3],\n",
        "              [4, 5, 6]])\n",
        "\n",
        "B = np.array([10, 20, 30])\n",
        "C = np.array([[1], [2]])\n",
        "\n",
        "```\n"
      ]
    },
    {
      "cell_type": "code",
      "execution_count": 49,
      "metadata": {
        "id": "HLueW9R2__sQ"
      },
      "outputs": [
        {
          "name": "stdout",
          "output_type": "stream",
          "text": [
            "Broadcasting Adding a 1D array to a 2D array:\n",
            " [[11 22 33]\n",
            " [14 25 36]]\n",
            "Broadcasting Multiply each row of a 2D array by a 1D array:\n",
            " [[ 10  40  90]\n",
            " [ 40 100 180]]\n",
            "Broadcasting Subtract a scalar from each element in an array:\n",
            " [[0 1 2]\n",
            " [3 4 5]]\n",
            "Broadcasting Add a column vector to each column of a matrix:\n",
            " [[2 3 4]\n",
            " [6 7 8]]\n"
          ]
        }
      ],
      "source": [
        "A = np.array([[1, 2, 3], [4, 5, 6]])\n",
        "B = np.array([10, 20, 30])\n",
        "C = np.array([[1],\n",
        "              [2]])\n",
        "\n",
        "# Broadcasting Adding a 1D array to a 2D array\n",
        "result_1=A+B\n",
        "print('Broadcasting Adding a 1D array to a 2D array:\\n', result_1)\n",
        "# Broadcasting Multiply each row of a 2D array by a 1D array\n",
        "result_2=A*B\n",
        "print('Broadcasting Multiply each row of a 2D array by a 1D array:\\n', result_2) \n",
        "# Broadcasting Subtract a scalar from each element in an array\n",
        "result_3=A-1\n",
        "print('Broadcasting Subtract a scalar from each element in an array:\\n', result_3)\n",
        "# Broadcasting Add a column vector to each column of a matrix\n",
        "result_4=A+C\n",
        "print('Broadcasting Add a column vector to each column of a matrix:\\n', result_4)\n"
      ]
    },
    {
      "cell_type": "markdown",
      "metadata": {
        "id": "GwaQHqqM_szI"
      },
      "source": [
        "\n",
        "---\n",
        "\n",
        "## 🔁 7. More Broadcasting Practice\n",
        "**Question:** Try these:\n",
        "1. Add a 1D array of shape (4,) to a 2D array of shape (3,4)\n",
        "2. Multiply a (3,1) column array to a (1,4) row array and observe the shape\n",
        "3. Add a scalar to the entire array\n",
        "\n",
        "```python\n",
        "A = np.arange(12).reshape(3, 4)\n",
        "B = np.array([100, 200, 300, 400])\n",
        "C = np.array([[2], [3], [4]])\n",
        "\n",
        "```\n"
      ]
    },
    {
      "cell_type": "code",
      "execution_count": 67,
      "metadata": {
        "id": "92PwMwBtAAwq"
      },
      "outputs": [
        {
          "name": "stdout",
          "output_type": "stream",
          "text": [
            "[[ 0  1  2  3]\n",
            " [ 4  5  6  7]\n",
            " [ 8  9 10 11]]\n",
            "[[0 1 2 3]]\n",
            "Broadcasting Addind a 1D array of shape (4,) to a 2D array of shape (3,4):\n",
            " [[100 201 302 403]\n",
            " [104 205 306 407]\n",
            " [108 209 310 411]]\n",
            "Broadcasting Multiply a (3,1) column array to a (1,4) row array and observe the shape:\n",
            " [[ 0  2  4  6]\n",
            " [ 0  3  6  9]\n",
            " [ 0  4  8 12]] \n",
            " (3, 4)\n",
            "Adding a scalar to the entire array:\n",
            " [[10 11 12 13]\n",
            " [14 15 16 17]\n",
            " [18 19 20 21]]\n"
          ]
        }
      ],
      "source": [
        "A = np.arange(12).reshape(3, 4)\n",
        "B = np.array([100, 200, 300, 400])\n",
        "C = np.array([[2],\n",
        "              [3],\n",
        "              [4]])\n",
        "D=np.arange(4).reshape(1,4)\n",
        "print(A)\n",
        "print(D)\n",
        "# Broadcasting Addind a 1D array of shape (4,) to a 2D array of shape (3,4)\n",
        "result_5=A+B\n",
        "print('Broadcasting Addind a 1D array of shape (4,) to a 2D array of shape (3,4):\\n', result_5)\n",
        "# Broadcasting Multiply a (3,1) column array to a (1,4) row array\n",
        "result_6=C*D\n",
        "print('Broadcasting Multiply a (3,1) column array to a (1,4) row array and observe the shape:\\n', result_6,'\\n', result_6.shape)\n",
        "# Adding a scalar to the entire array\n",
        "result_7=A+10\n",
        "print('Adding a scalar to the entire array:\\n', result_7)"
      ]
    },
    {
      "cell_type": "markdown",
      "metadata": {
        "id": "s0-ElcHm_uLL"
      },
      "source": [
        "\n",
        "---\n",
        "\n",
        "## 🔃 8. Reshaping and Flattening\n",
        "**Question:**\n",
        "1. Reshape a 1D array of 12 elements into a 3x4 matrix\n",
        "2. Flatten a 2D array into a 1D array\n",
        "\n",
        "```python\n",
        "arr = np.arange(12)\n",
        "\n",
        "```\n"
      ]
    },
    {
      "cell_type": "code",
      "execution_count": 73,
      "metadata": {
        "id": "6cuXtuHNABj7"
      },
      "outputs": [
        {
          "name": "stdout",
          "output_type": "stream",
          "text": [
            "[ 0  1  2  3  4  5  6  7  8  9 10 11]\n",
            "(12,)\n",
            "Reshaped array:\n",
            " [[ 0  1  2  3]\n",
            " [ 4  5  6  7]\n",
            " [ 8  9 10 11]]\n",
            "Flattened array:\n",
            " [ 0  1  2  3  4  5  6  7  8  9 10 11]\n"
          ]
        }
      ],
      "source": [
        "arr = np.arange(12)\n",
        "print(arr)\n",
        "print(arr.shape)\n",
        "# Reshape a 1D array of 12 elements into a 3x4 matrix\n",
        "arr_reshaped=arr.reshape(3,4)\n",
        "print('Reshaped array:\\n', arr_reshaped)\n",
        "# Flatten a 2D array into a 1D array\n",
        "arr_1d=arr_reshaped.flatten()\n",
        "print('Flattened array:\\n',arr_1d)"
      ]
    },
    {
      "cell_type": "markdown",
      "metadata": {
        "id": "wE_NIjfD_wYt"
      },
      "source": [
        "\n",
        "---\n",
        "\n",
        "## 🔗 9. Stacking and Splitting\n",
        "**Question:** Stack and split arrays:\n",
        "1. Stack two (2, 2) arrays vertically and horizontally\n",
        "2. reshape a (4, 4) array into array of shape (2, 8)\n",
        "\n",
        "\n",
        "---\n"
      ]
    },
    {
      "cell_type": "code",
      "execution_count": 76,
      "metadata": {},
      "outputs": [
        {
          "name": "stdout",
          "output_type": "stream",
          "text": [
            "Vertical array:\n",
            " [[0. 0.]\n",
            " [0. 0.]\n",
            " [1. 1.]\n",
            " [1. 1.]]\n",
            "horizontal array:\n",
            " [[0. 0. 1. 1.]\n",
            " [0. 0. 1. 1.]]\n"
          ]
        }
      ],
      "source": [
        "arr1=np.zeros((2,2))\n",
        "arr2=np.ones((2,2))\n",
        "# Stack two (2, 2) arrays vertically\n",
        "vertical_arr=np.vstack((arr1,arr2))\n",
        "print('Vertical array:\\n',vertical_arr)\n",
        "# Stack two (2, 2) arrays horizontally\n",
        "horizontal_arr=np.hstack((arr1,arr2))\n",
        "print('horizontal array:\\n',horizontal_arr)\n",
        "\n"
      ]
    },
    {
      "cell_type": "markdown",
      "metadata": {
        "id": "xEMoDhIO_xz1"
      },
      "source": [
        "\n",
        "## 🧠 10. Boolean Masking\n",
        "**Question:**\n",
        "Given an array:\n",
        "1. Select all elements > 10\n",
        "2. Replace all even numbers with -1\n",
        "\n",
        "```python\n",
        "arr = np.array([[5, 10, 15], [20, 25, 30]])\n",
        "\n",
        "```\n"
      ]
    },
    {
      "cell_type": "code",
      "execution_count": 79,
      "metadata": {
        "id": "jejS1-qiADMy"
      },
      "outputs": [
        {
          "name": "stdout",
          "output_type": "stream",
          "text": [
            "All elements greater than 10: [15 20 25 30]\n",
            "Array after replacig even numbers with -1:\n",
            " [[ 5 -1 15]\n",
            " [-1 25 -1]]\n"
          ]
        }
      ],
      "source": [
        "arr = np.array([[5, 10, 15], [20, 25, 30]])\n",
        "# Selecting all elements > 10\n",
        "great_than_10=arr[arr>10]\n",
        "print('All elements greater than 10:',great_than_10)\n",
        "# Replacing all even numbers with -1\n",
        "arr[arr%2==0]=-1\n",
        "print('Array after replacig even numbers with -1:\\n',arr)"
      ]
    },
    {
      "cell_type": "markdown",
      "metadata": {
        "id": "9AY2Y8HR_zSR"
      },
      "source": [
        "\n",
        "---\n",
        "\n",
        "## 🧮 11. Aggregation\n",
        "**Question:** Calculate:\n",
        "1. Sum of all elements\n",
        "2. Mean of each column\n",
        "3. Max value in each row\n",
        "4. Standard deviation of the array\n",
        "\n",
        "```python\n",
        "arr = np.array([[1, 2, 3], [4, 5, 6]])\n",
        "\n",
        "```\n"
      ]
    },
    {
      "cell_type": "code",
      "execution_count": 84,
      "metadata": {
        "id": "xlaIab8NAESs"
      },
      "outputs": [
        {
          "name": "stdout",
          "output_type": "stream",
          "text": [
            "Sum of all elements = 21\n",
            "Mean of each column: [2.5 3.5 4.5]\n",
            "Max value in each row: [3 6]\n",
            "Standard deviation of the array = 1.707825127659933\n"
          ]
        }
      ],
      "source": [
        "arr = np.array([[1, 2, 3], [4, 5, 6]])\n",
        "# Sum of all elements\n",
        "res_1=arr.sum()\n",
        "print('Sum of all elements =',res_1)\n",
        "# Mean of each column\n",
        "res_2=np.mean(arr,axis=0)\n",
        "print('Mean of each column:',res_2)\n",
        "# Max value in each row\n",
        "res_3=np.max(arr,axis=1)\n",
        "print('Max value in each row:',res_3)\n",
        "# Standard deviation of the array\n",
        "res_4=np.std(arr)\n",
        "print('Standard deviation of the array =',res_4)"
      ]
    },
    {
      "cell_type": "markdown",
      "metadata": {
        "id": "N4mqr1Gr_0Kt"
      },
      "source": [
        "\n",
        "---\n",
        "\n",
        "## 🧲 12. Dot Product and Matrix Multiplication\n",
        "**Question:**\n",
        "1. Multiply two matrices using `np.dot`\n",
        "\n",
        "```python\n",
        "A = np.array([[1, 2],\n",
        "              [3, 4]])\n",
        "B = np.array([[5, 6],\n",
        "              [7, 8]])\n",
        "\n",
        "```\n"
      ]
    },
    {
      "cell_type": "code",
      "execution_count": 86,
      "metadata": {
        "id": "gbWAzqoYAFR0"
      },
      "outputs": [
        {
          "name": "stdout",
          "output_type": "stream",
          "text": [
            "The dot product of two arrays:\n",
            " [[19 22]\n",
            " [43 50]]\n"
          ]
        }
      ],
      "source": [
        "A = np.array([[1, 2],\n",
        "              [3, 4]])\n",
        "B = np.array([[5, 6],\n",
        "              [7, 8]])\n",
        "product=np.dot(A,B)\n",
        "print('The dot product of two arrays:\\n',product)"
      ]
    },
    {
      "cell_type": "markdown",
      "metadata": {
        "id": "W1UDOAdi_1ar"
      },
      "source": [
        "\n",
        "---\n",
        "\n",
        "## 🔢 13. Random Numbers\n",
        "**Question:**\n",
        "1. Generate a 2x3 array of random numbers between 0 and 1\n",
        "2. Generate 10 random integers between 50 and 100\n",
        "\n"
      ]
    },
    {
      "cell_type": "code",
      "execution_count": 91,
      "metadata": {
        "id": "jOVTvy_hAGcv"
      },
      "outputs": [
        {
          "name": "stdout",
          "output_type": "stream",
          "text": [
            "Array of random numbers:\n",
            " [[0.95759059 0.54270656 0.60696179]\n",
            " [0.26951364 0.12674622 0.8594665 ]]\n",
            "10 random integers between 50 and 100:\n",
            " [100  85  82  54  95  71  84  82  97  92]\n"
          ]
        }
      ],
      "source": [
        "# 2x3 array of random numbers between 0 and 1\n",
        "arr1=np.random.rand(2,3)\n",
        "print('Array of random numbers:\\n',arr1)\n",
        "# 10 random integers between 50 and 100\n",
        "random_integers=np.random.randint(50,101,size=10)\n",
        "print('10 random integers between 50 and 100:\\n',random_integers)"
      ]
    },
    {
      "cell_type": "markdown",
      "metadata": {
        "id": "O-rWgFCv_27-"
      },
      "source": [
        "\n",
        "---\n",
        "\n",
        "## 📐 14. Linear Algebra\n",
        "**Question:**\n",
        "1. Find the rank of a matrix\n",
        "2. Compute the inverse of a matrix\n",
        "3. Compute the determinant of a matrix\n",
        "\n",
        "\n",
        "\n",
        "---\n"
      ]
    },
    {
      "cell_type": "code",
      "execution_count": 98,
      "metadata": {
        "id": "rcW7oVrGAGwI"
      },
      "outputs": [
        {
          "name": "stdout",
          "output_type": "stream",
          "text": [
            "The rank of matrix = 2\n",
            "The inverse of matrix:\n",
            " [[-1.66666667  0.66666667]\n",
            " [ 1.33333333 -0.33333333]]\n",
            "The determinant of a matrix = -2.9999999999999996\n"
          ]
        }
      ],
      "source": [
        "arr=np.array([[1,2],\n",
        "              [4,5]])\n",
        "# The rank of a matrix\n",
        "matrix_rank=np.linalg.matrix_rank(arr)\n",
        "print('The rank of matrix =',matrix_rank)\n",
        "# The inverse of matrix\n",
        "matrix_inverse=np.linalg.inv(arr)\n",
        "print('The inverse of matrix:\\n',matrix_inverse)\n",
        "# The determinant of a matrix\n",
        "matrix_determinant=np.linalg.det(arr)\n",
        "print('The determinant of a matrix =',matrix_determinant)\n"
      ]
    },
    {
      "cell_type": "markdown",
      "metadata": {
        "id": "lQb606tk_5L5"
      },
      "source": [
        "\n",
        "## ⭐ Bonus Challenge\n",
        "**Question:**\n",
        "Given a 2D array of shape (6, 6), extract all 3x3 submatrices (using slicing) and store them in a list.\n",
        "\n"
      ]
    },
    {
      "cell_type": "code",
      "execution_count": 110,
      "metadata": {
        "id": "dNR9aI5m9Vrr"
      },
      "outputs": [
        {
          "data": {
            "text/plain": [
              "[array([[ 0,  1,  2],\n",
              "        [ 6,  7,  8],\n",
              "        [12, 13, 14]]),\n",
              " array([[ 3,  4,  5],\n",
              "        [ 9, 10, 11],\n",
              "        [15, 16, 17]]),\n",
              " array([[18, 19, 20],\n",
              "        [24, 25, 26],\n",
              "        [30, 31, 32]]),\n",
              " array([[21, 22, 23],\n",
              "        [27, 28, 29],\n",
              "        [33, 34, 35]])]"
            ]
          },
          "execution_count": 110,
          "metadata": {},
          "output_type": "execute_result"
        }
      ],
      "source": [
        "list=[]\n",
        "arr=np.arange(36).reshape(6,6)\n",
        "# First 3x3 submatrices\n",
        "first=arr[0:3,0:3]\n",
        "# Second 3x3 submatrices\n",
        "second=arr[0:3,3:6]\n",
        "# Third 3x3 submatrices\n",
        "third=arr[3:6,0:3]\n",
        "# Fourth 3x3 submatrices\n",
        "fourth=arr[3:6,3:6]\n",
        "list.append(first)\n",
        "list.append(second)\n",
        "list.append(third)\n",
        "list.append(fourth)\n",
        "list\n"
      ]
    },
    {
      "cell_type": "markdown",
      "metadata": {
        "id": "-qOCxwQnAJn2"
      },
      "source": [
        "\n",
        "---\n",
        "\n",
        "Happy coding! 🎯\n"
      ]
    }
  ],
  "metadata": {
    "colab": {
      "provenance": []
    },
    "kernelspec": {
      "display_name": "Python 3",
      "name": "python3"
    },
    "language_info": {
      "codemirror_mode": {
        "name": "ipython",
        "version": 3
      },
      "file_extension": ".py",
      "mimetype": "text/x-python",
      "name": "python",
      "nbconvert_exporter": "python",
      "pygments_lexer": "ipython3",
      "version": "3.13.3"
    }
  },
  "nbformat": 4,
  "nbformat_minor": 0
}
